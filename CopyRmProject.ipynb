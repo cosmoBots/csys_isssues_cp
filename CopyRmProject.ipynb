{
 "cells": [
  {
   "cell_type": "markdown",
   "metadata": {},
   "source": [
    "Primero vamos a conectarnos con el servidor de origen y listar sus proyectos"
   ]
  },
  {
   "cell_type": "code",
   "execution_count": null,
   "metadata": {},
   "outputs": [],
   "source": [
    "from redminelib import Redmine\n",
    "import cfg_src_rm\n",
    "\n",
    "if cfg_src_rm.ignore_cert:\n",
    "    src_rm = Redmine(cfg_src_rm.server_url,key=cfg_src_rm.api_key, requests={'verify': False})\n",
    "else:\n",
    "    src_rm = Redmine(cfg_src_rm.server_url,key=cfg_src_rm.api_key)\n",
    "\n",
    "src_prjs = src_rm.project.all()\n",
    "\n",
    "print(\"Proyectos del servidor origen:\")\n",
    "for p in src_prjs:\n",
    "    print (\"\\t\",p.identifier,\" \\t| \",p.name)\n"
   ]
  },
  {
   "cell_type": "markdown",
   "metadata": {},
   "source": [
    "Ahora vamos a averiguar los identificadores de los campos personalizados que necesitaremos, mientras construimos un diccionario de ellos:"
   ]
  },
  {
   "cell_type": "code",
   "execution_count": null,
   "metadata": {},
   "outputs": [],
   "source": [
    "src_cfs = {}\n",
    "for cf in src_rm.custom_field.all():\n",
    "    print(cf)\n",
    "    src_cfs[cf.name] = cf\n",
    "    \n",
    "print(src_cfs.keys())"
   ]
  },
  {
   "cell_type": "markdown",
   "metadata": {},
   "source": [
    "Listaremos las tareas mientras construimos un diccionario para saber encontrar las tareas por subject"
   ]
  },
  {
   "cell_type": "code",
   "execution_count": null,
   "metadata": {},
   "outputs": [],
   "source": [
    "src_prj = src_rm.project.get(cfg_src_rm.project_id)\n",
    "print (\"Obtenemos proyecto: \",src_prj.identifier,\" | \",src_prj.name)\n",
    "\n",
    "src_prj_issues = src_rm.issue.filter(\n",
    "    project_id=src_prj.id,\n",
    "    sort='subject:asc',\n",
    "    status_id='*'\n",
    ")\n",
    "\n",
    "src_tsks = {}\n",
    "src_tsks_id = {}\n",
    "for i in src_prj_issues:\n",
    "    print(i.subject)\n",
    "    src_tsks[i.subject] = src_rm.issue.get(i.id)\n",
    "    src_tsks_id[i.id] = src_rm.issue.get(i.id)\n",
    "    print(i.id)\n",
    "    \n",
    "print(src_tsks.keys())"
   ]
  },
  {
   "cell_type": "markdown",
   "metadata": {},
   "source": [
    "Ahora vamos a conectarnos con el servidor de destino y listar sus proyectos"
   ]
  },
  {
   "cell_type": "code",
   "execution_count": null,
   "metadata": {},
   "outputs": [],
   "source": [
    "from redminelib import Redmine\n",
    "import cfg_dst_rm\n",
    "\n",
    "if cfg_dst_rm.ignore_cert:\n",
    "    dst_rm = Redmine(cfg_dst_rm.server_url,key=cfg_dst_rm.api_key, requests={'verify': False})\n",
    "else:\n",
    "    dst_rm = Redmine(cfg_dst_rm.server_url,key=cfg_dst_rm.api_key)\n",
    "\n",
    "dst_prjs = dst_rm.project.all()\n",
    "\n",
    "print(\"Proyectos del servidor destino:\")\n",
    "for p in dst_prjs:\n",
    "    print (\"\\t\",p.identifier,\" \\t| \",p.name)"
   ]
  },
  {
   "cell_type": "markdown",
   "metadata": {},
   "source": [
    "Ahora vamos a averiguar los identificadores de los campos personalizados que necesitaremos, mientras construimos un diccionario de ellos:"
   ]
  },
  {
   "cell_type": "code",
   "execution_count": null,
   "metadata": {},
   "outputs": [],
   "source": [
    "dst_cfs = {}\n",
    "for cf in dst_rm.custom_field.all():\n",
    "    print(cf)\n",
    "    dst_cfs[cf.name] = cf\n",
    "    \n",
    "print(dst_cfs.keys())"
   ]
  },
  {
   "cell_type": "markdown",
   "metadata": {},
   "source": [
    "Listaremos las tareas mientras construimos un diccionario para saber encontrar las tareas por subject"
   ]
  },
  {
   "cell_type": "code",
   "execution_count": null,
   "metadata": {},
   "outputs": [],
   "source": [
    "dst_prj = dst_rm.project.get(cfg_dst_rm.project_id)\n",
    "print (\"Obtenemos proyecto: \",dst_prj.identifier,\" | \",dst_prj.name)\n",
    "\n",
    "dst_prj_issues = dst_rm.issue.filter(\n",
    "    project_id=dst_prj.id,\n",
    "    sort='subject:asc',\n",
    "    status_id='*'\n",
    ")\n",
    "\n",
    "dst_tsks = {}\n",
    "dst_tsks_id = {}\n",
    "for i in dst_prj_issues:\n",
    "    print(i.subject)\n",
    "    dst_tsks[i.subject] = dst_rm.issue.get(i.id)\n",
    "    dst_tsks_id[i.id] = dst_rm.issue.get(i.id)\n",
    "    \n",
    "print(dst_tsks.keys())"
   ]
  },
  {
   "cell_type": "code",
   "execution_count": null,
   "metadata": {},
   "outputs": [],
   "source": [
    "print(\"Source Redmine users\")\n",
    "src_users_login = {}\n",
    "src_users_id = {}\n",
    "for mb in src_prj.memberships:\n",
    "    u = src_rm.user.get(mb.user.id)\n",
    "    src_users_login[u.login] = u\n",
    "    src_users_id[u.id] = u\n",
    "    \n",
    "print(src_users_login.keys())\n",
    "\n",
    "print(\"Dest Redmine users\")\n",
    "dst_users_login = {}\n",
    "dst_users_id = {}\n",
    "for mb in dst_prj.memberships:\n",
    "    u = dst_rm.user.get(mb.user.id)\n",
    "    dst_users_login[u.login] = u\n",
    "    dst_users_id[u.id] = u\n",
    "    \n",
    "print(dst_users_login.keys())\n"
   ]
  },
  {
   "cell_type": "markdown",
   "metadata": {},
   "source": [
    "Comprobamos si existen todos los miembros del proyecto origen en el proyecto destino"
   ]
  },
  {
   "cell_type": "code",
   "execution_count": null,
   "metadata": {},
   "outputs": [],
   "source": [
    "for k in src_users_login:\n",
    "    if k not in dst_users_login.keys():\n",
    "        print(\"WARNING: EL USUARIO\",k,\"no es miembro del proyecto destino\")"
   ]
  },
  {
   "cell_type": "markdown",
   "metadata": {},
   "source": [
    "Ahora comprobamos los status de uno y otro lado"
   ]
  },
  {
   "cell_type": "code",
   "execution_count": null,
   "metadata": {},
   "outputs": [],
   "source": [
    "print(\"Source Redmine statuses\")\n",
    "src_statuses = {}\n",
    "src_statuses_id = {}\n",
    "for st in src_rm.issue_status.all():\n",
    "    src_statuses[st.name] = st\n",
    "    src_statuses_id[st.id] = st\n",
    "    \n",
    "print(src_statuses.keys())\n",
    "\n",
    "print(\"Dest Redmine statuses\")\n",
    "dst_statuses = {}\n",
    "dst_statuses_id = {}\n",
    "for st in dst_rm.issue_status.all():\n",
    "    dst_statuses[st.name] = st\n",
    "    dst_statuses_id[st.id] = st\n",
    "    \n",
    "print(dst_statuses.keys())\n",
    "\n",
    "for k in src_statuses:\n",
    "    if k not in dst_statuses.keys():\n",
    "        print(\"WARNING: EL ESTADO \",k,\"no es existe en el servidor destino\")\n"
   ]
  },
  {
   "cell_type": "markdown",
   "metadata": {},
   "source": [
    "Ahora comprobamos las prioridades de uno y otro lado"
   ]
  },
  {
   "cell_type": "code",
   "execution_count": null,
   "metadata": {},
   "outputs": [],
   "source": [
    "print(\"Source Redmine priorities\")\n",
    "src_priorities = {}\n",
    "src_priorities_id = {}\n",
    "for prio in src_rm.enumeration.filter(resource='issue_priorities'):\n",
    "    src_priorities[prio.name] = prio\n",
    "    src_priorities_id[prio.id] = prio\n",
    "    \n",
    "print(src_priorities.keys())\n",
    "\n",
    "print(\"Dest Redmine priorities\")\n",
    "dst_priorities = {}\n",
    "dst_priorities_id = {}\n",
    "for prio in dst_rm.enumeration.filter(resource='issue_priorities'):\n",
    "    dst_priorities[prio.name] = prio\n",
    "    dst_priorities_id[prio.id] = prio\n",
    "    \n",
    "print(dst_priorities.keys())\n",
    "\n",
    "for k in src_priorities:\n",
    "    if k not in dst_priorities.keys():\n",
    "        print(\"WARNING: LA PRIORIDAD \",k,\"no es existe en el servidor destino\")"
   ]
  },
  {
   "cell_type": "markdown",
   "metadata": {},
   "source": [
    "Definiremos cómo se copian las tareas, según exista ya la tarea destino, o según sea una tarea a crear"
   ]
  },
  {
   "cell_type": "code",
   "execution_count": null,
   "metadata": {},
   "outputs": [],
   "source": [
    "cf_normal = ['IssChapter', 'IssTitle', 'Start date', 'WrkloadPct']\n",
    "cf_users = ['Supervisor', 'Collaborators']\n",
    "cf_relations = ['Depend']\n",
    "\n",
    "\n",
    "\n",
    "def calculamos_cfs(srcTsk):\n",
    "    tmpCfs=[]\n",
    "    for k in src_cfs.keys():\n",
    "        #print(\"\\n******\",k)\n",
    "        #print(\"cf:\",src_cfs[k].name)\n",
    "        if k not in dst_cfs.keys():\n",
    "            print(\"WARNING: no existe en el servidor destino el campo\",k)\n",
    "            \n",
    "        else:\n",
    "            #print(\"cfsid:\",src_cfs[k].id)\n",
    "            cv = srcTsk.custom_fields.get(src_cfs[k].id)\n",
    "            if cv is not None:\n",
    "                if hasattr(cv,'value'):\n",
    "                    cv_val = cv.value\n",
    "                    if cv_val is not None and cv_val is not '':\n",
    "                        #print(\"tsk.cv\",cv_val)\n",
    "                        if (k in cf_normal):\n",
    "                            tmpCfs += [{'id' : src_cfs[k].id, 'value': cv_val}]\n",
    "                        elif (k in cf_users):\n",
    "                            #print(\"cf users\",k)\n",
    "                            if k == 'Supervisor':\n",
    "                                #print(\"Supervisor:\",cv_val)\n",
    "                                srcuser = src_users_id[int(cv_val)]\n",
    "                                dstuser = dst_users_login[srcuser.login]\n",
    "                                tmpCfs += [{'id' : src_cfs[k].id, 'value': dstuser.id}]\n",
    "                            elif k == 'Collaborators':\n",
    "                                #print(\"Collaborators:\",cv_val)\n",
    "                                colvector = []\n",
    "                                for col in cv_val:\n",
    "                                    srcuser = src_users_id[int(col)]\n",
    "                                    dstuser = dst_users_login[srcuser.login]\n",
    "                                    colvector += [str(dstuser.id)]\n",
    "                                \n",
    "                                tmpCfs += [{'id' : src_cfs[k].id, 'value': colvector}]\n",
    "                                         \n",
    "                    \n",
    "    print(\"Result:\",tmpCfs)\n",
    "    return tmpCfs\n",
    "\n",
    "def find_dst_assignee(src_assignee):\n",
    "    ret = None\n",
    "    if src_assignee is not None:\n",
    "        ret = dst_users_login[src_users_id[src_assignee.id].login]\n",
    "\n",
    "    return ret\n",
    "\n",
    "def find_dst_status(src_status):\n",
    "    ret = None\n",
    "    if src_status is not None:\n",
    "        ret = dst_statuses[src_status.name]\n",
    "\n",
    "    return ret\n",
    "\n",
    "def find_dst_priority(src_priority):\n",
    "    ret = None\n",
    "    print(\"prio:\",src_priority.name)\n",
    "    if src_priority is not None:\n",
    "        ret = dst_priorities[src_priority.name]\n",
    "\n",
    "    return ret\n",
    "\n",
    "def update_tsk(srcTsk,dstTsk):\n",
    "    global dst_rm,dst_cfs,src_cfs\n",
    "    print(\"\\n>>>>>\",srcTsk)\n",
    "    tmpCfs=calculamos_cfs(srcTsk)\n",
    "    if hasattr(srcTsk,'assigned_to'):\n",
    "        dest_assignee_id = find_dst_assignee(srcTsk.assigned_to).id\n",
    "    else:\n",
    "        dest_assignee_id = None\n",
    "        \n",
    "    if hasattr(srcTsk,'estimated_hours'):\n",
    "        dest_estimated_hours = srcTsk.estimated_hours\n",
    "    else:\n",
    "        dest_estimated_hours = None        \n",
    "\n",
    "    print(srcTsk.priority)\n",
    "    dst_rm.issue.update(\n",
    "        dstTsk.id,\n",
    "        tracker_id=srcTsk.tracker.id,\n",
    "        description=srcTsk.description,\n",
    "        status_id=find_dst_status(srcTsk.status).id,\n",
    "        priority_id=find_dst_priority(srcTsk.priority).id,\n",
    "        assigned_to_id=dest_assignee_id,\n",
    "        #start_date=srcTsk.start_date,\n",
    "        #due_date=srcTsk.due_date,\n",
    "        estimated_hours=dest_estimated_hours,\n",
    "        custom_fields=tmpCfs,\n",
    "        done_ratio=srcTsk.done_ratio,\n",
    "    )\n",
    "    \n",
    "def copy_tsk(srcTsk):\n",
    "    global dst_rm,dst_cfs,src_cfs\n",
    "    print(\"\\n>>>>>\",srcTsk)\n",
    "    tmpCfs=calculamos_cfs(srcTsk)\n",
    "    if hasattr(srcTsk,'assigned_to'):\n",
    "        dest_assignee_id = find_dst_assignee(srcTsk.assigned_to).id\n",
    "    else:\n",
    "        dest_assignee_id = None\n",
    "        \n",
    "    if hasattr(srcTsk,'estimated_hours'):\n",
    "        dest_estimated_hours = srcTsk.estimated_hours\n",
    "    else:\n",
    "        dest_estimated_hours = None        \n",
    "        \n",
    "    ret = dst_rm.issue.create(\n",
    "        project_id=dst_prj.id,\n",
    "        tracker_id=srcTsk.tracker.id,\n",
    "        description=srcTsk.description,\n",
    "        status_id=find_dst_status(srcTsk.status).id,\n",
    "        priority_id=find_dst_priority(srcTsk.priority).id,\n",
    "        assigned_to_id=dest_assignee_id,\n",
    "        #start_date=srcTsk.start_date,\n",
    "        #due_date=srcTsk.due_date,\n",
    "        estimated_hours=dest_estimated_hours,\n",
    "        custom_fields=tmpCfs,\n",
    "        done_ratio=srcTsk.done_ratio\n",
    "    )\n",
    "    return ret"
   ]
  },
  {
   "cell_type": "markdown",
   "metadata": {},
   "source": [
    "Ahora identificaremos, para cada tarea de origen, su tarea destino"
   ]
  },
  {
   "cell_type": "code",
   "execution_count": null,
   "metadata": {},
   "outputs": [],
   "source": [
    "for k in src_tsks.keys():\n",
    "    if k in dst_tsks.keys():\n",
    "        print(\"ya existe\")\n",
    "        update_tsk(src_tsks[k],dst_tsks[k])\n",
    "        \n",
    "    else:\n",
    "        print(\"hará falta una tarea nueva\")\n",
    "        dst_tsks[k] = copy_tsk(src_tsks[k])\n",
    "        \n",
    "    src_tsks[k]['dst'] = dst_tsks[k]"
   ]
  },
  {
   "cell_type": "markdown",
   "metadata": {},
   "source": [
    "Ahora trataremos las relaciones"
   ]
  },
  {
   "cell_type": "code",
   "execution_count": null,
   "metadata": {},
   "outputs": [],
   "source": [
    "def calculamos_cfs_rel(srcTsk):\n",
    "    global src_tsks_id, src_tsks,src_cfs,dst_cfs\n",
    "    tmpCfs=[]\n",
    "    for k in src_cfs.keys():\n",
    "        #print(\"\\n******\",k)\n",
    "        #print(\"cf:\",src_cfs[k].name)\n",
    "        if k not in dst_cfs.keys():\n",
    "            print(\"WARNING: no existe en el servidor destino el campo\",k)\n",
    "            \n",
    "        else:\n",
    "            #print(\"cfsid:\",src_cfs[k].id)\n",
    "            cv = srcTsk.custom_fields.get(src_cfs[k].id)\n",
    "            if cv is not None:\n",
    "                if hasattr(cv,'value'):\n",
    "                    cv_val = cv.value\n",
    "                    if cv_val is not None and cv_val is not '':\n",
    "                        if (k in cf_relations):\n",
    "                            print(\"cf relations:\",k)\n",
    "                            print(\"cv_val\",cv_val)\n",
    "                            relvector = []\n",
    "                            srcrelvector = cv_val.split(',')\n",
    "                            for rel in srcrelvector:\n",
    "                                srcrel = src_tsks_id[int(rel)]\n",
    "                                dstrel = src_tsks[srcrel.subject]['dst']\n",
    "                                relvector += [dstrel.id]\n",
    "                                \n",
    "                            tmpCfs += [{'id' : src_cfs[k].id, 'value': ','.join(map(str, relvector))}]\n",
    "                            \n",
    "                    \n",
    "    print(\"Result:\",tmpCfs)\n",
    "    return tmpCfs\n",
    "\n",
    "def update_tsk_rel(srcTsk,dstTsk):\n",
    "    global dst_rm,dst_cfs,src_cfs\n",
    "    print(\"\\n>>>>>\",srcTsk)\n",
    "    tmpCfs=calculamos_cfs_rel(srcTsk)\n",
    "\n",
    "    if hasattr(srcTsk,'parent'):\n",
    "        print(srcTsk.parent)\n",
    "        print(srcTsk.parent.id)\n",
    "        print(\"source_parent:\",src_tsks_id[srcTsk.parent.id].subject)\n",
    "        dest_parent_issue = src_tsks[src_tsks_id[srcTsk.parent.id].subject]['dst']\n",
    "        print(\"dest_parent:\",dest_parent_issue)\n",
    "        print(\"dest_parent_id:\",dest_parent_issue.id)\n",
    "        dest_parent_issue_id = dest_parent_issue.id\n",
    "    else:\n",
    "        dest_parent_issue_id = None\n",
    "    \n",
    "    dst_rm.issue.update(\n",
    "        dstTsk.id,\n",
    "        parent_issue_id=dest_parent_issue_id,\n",
    "        custom_fields=tmpCfs,\n",
    "    )\n",
    "    \n",
    "\n",
    "for k in src_tsks.keys():\n",
    "    update_tsk_rel(src_tsks[k],src_tsks[k]['dst'])\n",
    "\n",
    "    "
   ]
  },
  {
   "cell_type": "code",
   "execution_count": null,
   "metadata": {},
   "outputs": [],
   "source": [
    "tsk_done = []\n",
    "lentsk = len(src_tsks)\n",
    "while lentsk > len(tsk_done):\n",
    "    for k in src_tsks.keys():\n",
    "        srcTsk = src_tsks[k]\n",
    "        dstTsk = src_tsks[k]['dst']\n",
    "        if dstTsk.id not in tsk_done:\n",
    "            print(\"****\",k,dstTsk.subject)\n",
    "            ready_to_link = True\n",
    "            rels_to_link = []\n",
    "            for r in srcTsk.relations:\n",
    "                if (srcTsk.id==r.issue_to_id):\n",
    "                    dest_rel_issue = src_tsks[src_tsks_id[r.issue_id].subject]['dst']\n",
    "                    if dest_rel_issue.id not in tsk_done:\n",
    "                        ready_to_link = False\n",
    "\n",
    "                    else:\n",
    "                        rels_to_link += [r]\n",
    "\n",
    "            if (ready_to_link):\n",
    "                print(\"Tratamos relaciones de \",srcTsk.subject, dstTsk.subject)\n",
    "                tsk_done += [dstTsk.id]\n",
    "                print(\"Longitud: \",len(tsk_done),\"?\",lentsk)\n",
    "\n",
    "                for r in dstTsk.relations:\n",
    "                    printf(\"comprobamos relaciones:\")\n",
    "                    if (dstTsk.id==r.issue_to_id):\n",
    "                        printf(\"Borramos la relación con \",dst_tsk_id[r.issue_id].subject)\n",
    "                        r.delete()\n",
    "\n",
    "                for r in rels_to_link:\n",
    "                    dest_rel_issue = src_tsks[src_tsks_id[r.issue_id].subject]['dst']\n",
    "                    print(\"Crearemos la relación con:\",dest_rel_issue)\n",
    "                    relation = dst_rm.issue_relation.create(\n",
    "                        issue_id=dest_rel_issue.id,\n",
    "                        issue_to_id=dstTsk.id,\n",
    "                        relation_type=r.relation_type,\n",
    "                        delay=r.delay\n",
    "                    )\n",
    "                \n",
    "                if len(dstTsk.children)<=0:\n",
    "                    print(\"Actualizamos las fechas de\",dstTsk.subject,src_tsks[k].start_date,src_tsks[k].due_date)\n",
    "                    dst_rm.issue.update(\n",
    "                        dstTsk.id,\n",
    "                        start_date=src_tsks[k].start_date,\n",
    "                        due_date=src_tsks[k].due_date,\n",
    "                    )\n",
    "\n",
    "                \n",
    "        "
   ]
  },
  {
   "cell_type": "raw",
   "metadata": {},
   "source": []
  },
  {
   "cell_type": "code",
   "execution_count": null,
   "metadata": {},
   "outputs": [],
   "source": []
  },
  {
   "cell_type": "code",
   "execution_count": null,
   "metadata": {},
   "outputs": [],
   "source": []
  },
  {
   "cell_type": "code",
   "execution_count": null,
   "metadata": {},
   "outputs": [],
   "source": []
  },
  {
   "cell_type": "code",
   "execution_count": null,
   "metadata": {},
   "outputs": [],
   "source": []
  },
  {
   "cell_type": "code",
   "execution_count": null,
   "metadata": {},
   "outputs": [],
   "source": [
    "print(\"hecho\")"
   ]
  },
  {
   "cell_type": "code",
   "execution_count": null,
   "metadata": {},
   "outputs": [],
   "source": []
  },
  {
   "cell_type": "code",
   "execution_count": null,
   "metadata": {},
   "outputs": [],
   "source": []
  },
  {
   "cell_type": "code",
   "execution_count": null,
   "metadata": {},
   "outputs": [],
   "source": []
  },
  {
   "cell_type": "code",
   "execution_count": null,
   "metadata": {},
   "outputs": [],
   "source": []
  },
  {
   "cell_type": "code",
   "execution_count": null,
   "metadata": {},
   "outputs": [],
   "source": []
  },
  {
   "cell_type": "markdown",
   "metadata": {},
   "source": [
    "Necesitaremos ajustar el contador del proyecto"
   ]
  },
  {
   "cell_type": "code",
   "execution_count": null,
   "metadata": {},
   "outputs": [],
   "source": []
  }
 ],
 "metadata": {
  "kernelspec": {
   "display_name": "Python 3",
   "language": "python",
   "name": "python3"
  },
  "language_info": {
   "codemirror_mode": {
    "name": "ipython",
    "version": 3
   },
   "file_extension": ".py",
   "mimetype": "text/x-python",
   "name": "python",
   "nbconvert_exporter": "python",
   "pygments_lexer": "ipython3",
   "version": "3.7.6"
  }
 },
 "nbformat": 4,
 "nbformat_minor": 4
}
